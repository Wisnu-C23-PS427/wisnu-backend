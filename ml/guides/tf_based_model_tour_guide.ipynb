{
 "cells": [
  {
   "cell_type": "code",
   "execution_count": 25,
   "id": "14c41916",
   "metadata": {},
   "outputs": [],
   "source": [
    "# import libraries\n",
    "import numpy as np\n",
    "import pandas as pd\n",
    "import tensorflow as tf\n",
    "from sklearn.preprocessing import LabelEncoder\n",
    "from sklearn.metrics.pairwise import cosine_similarity\n",
    "from sklearn.feature_extraction.text import TfidfVectorizer"
   ]
  },
  {
   "cell_type": "code",
   "execution_count": 26,
   "id": "c1f3d741",
   "metadata": {},
   "outputs": [
    {
     "data": {
      "text/html": [
       "<div>\n",
       "<style scoped>\n",
       "    .dataframe tbody tr th:only-of-type {\n",
       "        vertical-align: middle;\n",
       "    }\n",
       "\n",
       "    .dataframe tbody tr th {\n",
       "        vertical-align: top;\n",
       "    }\n",
       "\n",
       "    .dataframe thead th {\n",
       "        text-align: right;\n",
       "    }\n",
       "</style>\n",
       "<table border=\"1\" class=\"dataframe\">\n",
       "  <thead>\n",
       "    <tr style=\"text-align: right;\">\n",
       "      <th></th>\n",
       "      <th>Pemandu_ID</th>\n",
       "      <th>Nama_Pemandu</th>\n",
       "      <th>Optional_Bahasa</th>\n",
       "      <th>Umur</th>\n",
       "      <th>Jenis_Kelamin</th>\n",
       "      <th>Tempat</th>\n",
       "      <th>Pendidikan_Terakhir</th>\n",
       "      <th>Pekerjaan</th>\n",
       "      <th>Nomor_Telepon</th>\n",
       "      <th>Price_per_hour</th>\n",
       "      <th>Time_duration_in_min</th>\n",
       "      <th>Rating</th>\n",
       "      <th>Avatars</th>\n",
       "    </tr>\n",
       "  </thead>\n",
       "  <tbody>\n",
       "    <tr>\n",
       "      <th>0</th>\n",
       "      <td>PMD000</td>\n",
       "      <td>Kani Puspasari</td>\n",
       "      <td>Inggris</td>\n",
       "      <td>23</td>\n",
       "      <td>Perempuan</td>\n",
       "      <td>South Solok</td>\n",
       "      <td>SD</td>\n",
       "      <td>Wartawan</td>\n",
       "      <td>6283760988551</td>\n",
       "      <td>50000</td>\n",
       "      <td>300</td>\n",
       "      <td>3</td>\n",
       "      <td>xsgames.co/randomusers/avatar.php?g=female</td>\n",
       "    </tr>\n",
       "    <tr>\n",
       "      <th>1</th>\n",
       "      <td>PMD001</td>\n",
       "      <td>Lega Hardiansyah</td>\n",
       "      <td>Inggris</td>\n",
       "      <td>18</td>\n",
       "      <td>Laki-laki</td>\n",
       "      <td>Gowa</td>\n",
       "      <td>SMA</td>\n",
       "      <td>Wiraswasta</td>\n",
       "      <td>6284225892082</td>\n",
       "      <td>66000</td>\n",
       "      <td>360</td>\n",
       "      <td>3</td>\n",
       "      <td>xsgames.co/randomusers/avatar.php?g=male</td>\n",
       "    </tr>\n",
       "    <tr>\n",
       "      <th>2</th>\n",
       "      <td>PMD002</td>\n",
       "      <td>Ir. Zulfa Iswahyudi, S.E.I</td>\n",
       "      <td>Jepang</td>\n",
       "      <td>32</td>\n",
       "      <td>Perempuan</td>\n",
       "      <td>Kabupaten Gunung Kidul</td>\n",
       "      <td>S1</td>\n",
       "      <td>Guru</td>\n",
       "      <td>6286605735920</td>\n",
       "      <td>82000</td>\n",
       "      <td>60</td>\n",
       "      <td>4</td>\n",
       "      <td>xsgames.co/randomusers/avatar.php?g=female</td>\n",
       "    </tr>\n",
       "    <tr>\n",
       "      <th>3</th>\n",
       "      <td>PMD003</td>\n",
       "      <td>Icha Kusumo</td>\n",
       "      <td>Mandarin</td>\n",
       "      <td>38</td>\n",
       "      <td>Laki-laki</td>\n",
       "      <td>Bogor</td>\n",
       "      <td>S1</td>\n",
       "      <td>Pengusaha</td>\n",
       "      <td>6281121979913</td>\n",
       "      <td>126000</td>\n",
       "      <td>240</td>\n",
       "      <td>2</td>\n",
       "      <td>xsgames.co/randomusers/avatar.php?g=male</td>\n",
       "    </tr>\n",
       "    <tr>\n",
       "      <th>4</th>\n",
       "      <td>PMD004</td>\n",
       "      <td>KH. Ridwan Hariyah</td>\n",
       "      <td>Inggris</td>\n",
       "      <td>26</td>\n",
       "      <td>Laki-laki</td>\n",
       "      <td>Moskva</td>\n",
       "      <td>S1</td>\n",
       "      <td>Guru</td>\n",
       "      <td>6282581398149</td>\n",
       "      <td>143000</td>\n",
       "      <td>180</td>\n",
       "      <td>4</td>\n",
       "      <td>xsgames.co/randomusers/avatar.php?g=male</td>\n",
       "    </tr>\n",
       "  </tbody>\n",
       "</table>\n",
       "</div>"
      ],
      "text/plain": [
       "  Pemandu_ID                Nama_Pemandu Optional_Bahasa  Umur Jenis_Kelamin  \\\n",
       "0     PMD000              Kani Puspasari         Inggris    23     Perempuan   \n",
       "1     PMD001            Lega Hardiansyah         Inggris    18     Laki-laki   \n",
       "2     PMD002  Ir. Zulfa Iswahyudi, S.E.I          Jepang    32     Perempuan   \n",
       "3     PMD003                 Icha Kusumo        Mandarin    38     Laki-laki   \n",
       "4     PMD004          KH. Ridwan Hariyah         Inggris    26     Laki-laki   \n",
       "\n",
       "                   Tempat Pendidikan_Terakhir   Pekerjaan  Nomor_Telepon  \\\n",
       "0             South Solok                  SD    Wartawan  6283760988551   \n",
       "1                    Gowa                 SMA  Wiraswasta  6284225892082   \n",
       "2  Kabupaten Gunung Kidul                  S1        Guru  6286605735920   \n",
       "3                   Bogor                  S1   Pengusaha  6281121979913   \n",
       "4                  Moskva                  S1        Guru  6282581398149   \n",
       "\n",
       "   Price_per_hour  Time_duration_in_min  Rating  \\\n",
       "0           50000                   300       3   \n",
       "1           66000                   360       3   \n",
       "2           82000                    60       4   \n",
       "3          126000                   240       2   \n",
       "4          143000                   180       4   \n",
       "\n",
       "                                      Avatars  \n",
       "0  xsgames.co/randomusers/avatar.php?g=female  \n",
       "1    xsgames.co/randomusers/avatar.php?g=male  \n",
       "2  xsgames.co/randomusers/avatar.php?g=female  \n",
       "3    xsgames.co/randomusers/avatar.php?g=male  \n",
       "4    xsgames.co/randomusers/avatar.php?g=male  "
      ]
     },
     "execution_count": 26,
     "metadata": {},
     "output_type": "execute_result"
    }
   ],
   "source": [
    "# read csv file\n",
    "local_guide = pd.read_csv('local_guide.csv')\n",
    "local_guide.head()"
   ]
  },
  {
   "cell_type": "code",
   "execution_count": 27,
   "id": "cb4e313c",
   "metadata": {},
   "outputs": [
    {
     "name": "stdout",
     "output_type": "stream",
     "text": [
      "<class 'pandas.core.frame.DataFrame'>\n",
      "RangeIndex: 2000 entries, 0 to 1999\n",
      "Data columns (total 13 columns):\n",
      " #   Column                Non-Null Count  Dtype \n",
      "---  ------                --------------  ----- \n",
      " 0   Pemandu_ID            2000 non-null   object\n",
      " 1   Nama_Pemandu          2000 non-null   object\n",
      " 2   Optional_Bahasa       2000 non-null   object\n",
      " 3   Umur                  2000 non-null   int64 \n",
      " 4   Jenis_Kelamin         2000 non-null   object\n",
      " 5   Tempat                2000 non-null   object\n",
      " 6   Pendidikan_Terakhir   2000 non-null   object\n",
      " 7   Pekerjaan             2000 non-null   object\n",
      " 8   Nomor_Telepon         2000 non-null   int64 \n",
      " 9   Price_per_hour        2000 non-null   int64 \n",
      " 10  Time_duration_in_min  2000 non-null   int64 \n",
      " 11  Rating                2000 non-null   int64 \n",
      " 12  Avatars               2000 non-null   object\n",
      "dtypes: int64(5), object(8)\n",
      "memory usage: 203.2+ KB\n"
     ]
    }
   ],
   "source": [
    "# info of local_guide\n",
    "local_guide.info()"
   ]
  },
  {
   "cell_type": "code",
   "execution_count": 28,
   "id": "fb9af0b6",
   "metadata": {},
   "outputs": [
    {
     "name": "stdout",
     "output_type": "stream",
     "text": [
      "Model: \"sequential_3\"\n",
      "_________________________________________________________________\n",
      " Layer (type)                Output Shape              Param #   \n",
      "=================================================================\n",
      " dense_10 (Dense)            (None, 128)               20736     \n",
      "                                                                 \n",
      " dense_11 (Dense)            (None, 64)                8256      \n",
      "                                                                 \n",
      " dense_12 (Dense)            (None, 32)                2080      \n",
      "                                                                 \n",
      " dense_13 (Dense)            (None, 161)               5313      \n",
      "                                                                 \n",
      "=================================================================\n",
      "Total params: 36,385\n",
      "Trainable params: 36,385\n",
      "Non-trainable params: 0\n",
      "_________________________________________________________________\n"
     ]
    }
   ],
   "source": [
    "# data\n",
    "data = pd.read_csv('local_guide.csv')\n",
    "\n",
    "# create object TfidfVectorizer\n",
    "vectorizer = TfidfVectorizer()\n",
    "\n",
    "# Melakukan vektorisasi TF-IDF pada fitur \"Tempat\"\n",
    "tfidf_matrix_tempat = vectorizer.fit_transform(data['Tempat'])\n",
    "\n",
    "# Mengubah matriks TF-IDF menjadi array\n",
    "tfidf_matrix = tfidf_matrix_tempat.toarray()\n",
    "\n",
    "# Mendapatkan indeks item berdasarkan input Tempat\n",
    "def get_item_index_by_tempat(tempat, data):\n",
    "    index = data[data['Tempat'] == tempat].index\n",
    "    return index[0] if len(index) > 0 else None\n",
    "\n",
    "# Membangun model sequential\n",
    "model = tf.keras.models.Sequential([\n",
    "    tf.keras.layers.Dense(128, activation='relu', input_shape=(tfidf_matrix.shape[1],)),\n",
    "    tf.keras.layers.Dense(64, activation='relu'),\n",
    "    tf.keras.layers.Dense(32, activation='relu'),\n",
    "    tf.keras.layers.Dense(tfidf_matrix.shape[1], activation='linear')\n",
    "])\n",
    "\n",
    "# summary model\n",
    "model.summary()"
   ]
  },
  {
   "cell_type": "code",
   "execution_count": 29,
   "id": "97eb7daf",
   "metadata": {},
   "outputs": [],
   "source": [
    "# compile model\n",
    "model.compile(loss='cosine_similarity', optimizer='adam')"
   ]
  },
  {
   "cell_type": "code",
   "execution_count": 30,
   "id": "d1befc18",
   "metadata": {},
   "outputs": [
    {
     "name": "stdout",
     "output_type": "stream",
     "text": [
      "Epoch 1/10\n",
      "63/63 [==============================] - 4s 7ms/step - loss: -0.2234\n",
      "Epoch 2/10\n",
      "63/63 [==============================] - 0s 6ms/step - loss: -0.4116\n",
      "Epoch 3/10\n",
      "63/63 [==============================] - 0s 7ms/step - loss: -0.5003\n",
      "Epoch 4/10\n",
      "63/63 [==============================] - 1s 9ms/step - loss: -0.5437\n",
      "Epoch 5/10\n",
      "63/63 [==============================] - 1s 8ms/step - loss: -0.5672\n",
      "Epoch 6/10\n",
      "63/63 [==============================] - 0s 6ms/step - loss: -0.5813\n",
      "Epoch 7/10\n",
      "63/63 [==============================] - 0s 6ms/step - loss: -0.5917\n",
      "Epoch 8/10\n",
      "63/63 [==============================] - 0s 6ms/step - loss: -0.5981\n",
      "Epoch 9/10\n",
      "63/63 [==============================] - 0s 6ms/step - loss: -0.6039\n",
      "Epoch 10/10\n",
      "63/63 [==============================] - 0s 6ms/step - loss: -0.6081\n"
     ]
    },
    {
     "data": {
      "text/plain": [
       "<keras.callbacks.History at 0x26092a703d0>"
      ]
     },
     "execution_count": 30,
     "metadata": {},
     "output_type": "execute_result"
    }
   ],
   "source": [
    "# fit model\n",
    "model.fit(tfidf_matrix, tfidf_matrix, epochs=10, batch_size=32)"
   ]
  },
  {
   "cell_type": "code",
   "execution_count": 31,
   "id": "986de514",
   "metadata": {},
   "outputs": [],
   "source": [
    "# savings models\n",
    "model.save('model_local_guide.h5')"
   ]
  }
 ],
 "metadata": {
  "kernelspec": {
   "display_name": "Python 3 (ipykernel)",
   "language": "python",
   "name": "python3"
  },
  "language_info": {
   "codemirror_mode": {
    "name": "ipython",
    "version": 3
   },
   "file_extension": ".py",
   "mimetype": "text/x-python",
   "name": "python",
   "nbconvert_exporter": "python",
   "pygments_lexer": "ipython3",
   "version": "3.9.13"
  }
 },
 "nbformat": 4,
 "nbformat_minor": 5
}
